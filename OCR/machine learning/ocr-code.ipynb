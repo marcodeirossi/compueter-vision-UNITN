{
 "cells": [
  {
   "cell_type": "markdown",
   "metadata": {},
   "source": [
    "<h1 align=center style=\"color: #005496; font-size: 2.0em;\">MACHINE LEARNING LAB 2</h1>\n"
   ]
  },
  {
   "cell_type": "markdown",
   "metadata": {},
   "source": [
    "Iporting the libraries Numpy, Scikit learn and Matplotlib"
   ]
  },
  {
   "cell_type": "code",
   "execution_count": 1,
   "metadata": {},
   "outputs": [],
   "source": [
    "import numpy as np\n",
    "import sklearn\n",
    "%matplotlib inline\n",
    "import matplotlib.pyplot as plt\n",
    "import pandas as pd\n",
    "import math\n",
    "from sklearn import metrics\n"
   ]
  },
  {
   "cell_type": "markdown",
   "metadata": {},
   "source": [
    "**1.Choose a dataset: importing Optical Charachter Recognition (OCR) dataset:**"
   ]
  },
  {
   "cell_type": "code",
   "execution_count": 3,
   "metadata": {},
   "outputs": [],
   "source": [
    "X_train = pd.read_csv(\"C:\\\\Users\\\\Elisa\\\\Desktop\\\\UNITN\\\\Machine_Learning\\\\labs\\\\lab2\\\\213744_Elisa_Baldassari\\\\ocr\\\\train-datas.csv\", header = None)\n",
    "Y_train = pd.read_csv(\"C:\\\\Users\\\\Elisa\\\\Desktop\\\\UNITN\\\\Machine_Learning\\\\labs\\\\lab2\\\\213744_Elisa_Baldassari\\\\ocr\\\\train-targets.csv\", header = None)\n",
    "X_test  = pd.read_csv(\"C:\\\\Users\\\\Elisa\\\\Desktop\\\\UNITN\\\\Machine_Learning\\\\labs\\\\lab2\\\\213744_Elisa_Baldassari\\\\ocr\\\\test-datas.csv\", header = None)\n",
    "Y_test  = pd.read_csv(\"C:\\\\Users\\\\Elisa\\\\Desktop\\\\UNITN\\\\Machine_Learning\\\\labs\\\\lab2\\\\213744_Elisa_Baldassari\\\\ocr\\\\test-targets.csv\", header = None)\n"
   ]
  },
  {
   "cell_type": "code",
   "execution_count": 3,
   "metadata": {},
   "outputs": [],
   "source": [
    "x_train=np.array(X_train)\n",
    "y_train1=np.array(Y_train)\n",
    "x_test=np.array(X_test)\n",
    "y_test1=np.array(Y_test)\n",
    "\n",
    "y_train=np.ravel(y_train1,order='C')\n",
    "y_test=np.ravel(y_test1,order='C')"
   ]
  },
  {
   "cell_type": "markdown",
   "metadata": {},
   "source": [
    "Alternative method for importing:"
   ]
  },
  {
   "cell_type": "code",
   "execution_count": 4,
   "metadata": {},
   "outputs": [],
   "source": [
    "# from numpy import genfromtxt\n",
    "# x_train = genfromtxt(\"C:\\\\Users\\\\Elisa\\\\Desktop\\\\UNITN\\\\Machine_Learning\\\\labs\\\\lab2\\\\213744_Elisa_Baldassari\\\\ocr\\\\train-data.csv\", delimiter=',')\n",
    "# y_train = genfromtxt(\"C:\\\\Users\\\\Elisa\\\\Desktop\\\\UNITN\\\\Machine_Learning\\\\labs\\\\lab2\\\\213744_Elisa_Baldassari\\\\ocr\\\\train-targets.csv\", delimiter=',')\n",
    "# x_test  = genfromtxt(\"C:\\\\Users\\\\Elisa\\\\Desktop\\\\UNITN\\\\Machine_Learning\\\\labs\\\\lab2\\\\213744_Elisa_Baldassari\\\\ocr\\\\test-data.csv\", header = None)\n",
    "# y_test  = genfromtxt(\"C:\\\\Users\\\\Elisa\\\\Desktop\\\\UNITN\\\\Machine_Learning\\\\labs\\\\lab2\\\\213744_Elisa_Baldassari\\\\ocr\\\\test-targets.csv\", header = None)\n"
   ]
  },
  {
   "cell_type": "code",
   "execution_count": 5,
   "metadata": {},
   "outputs": [
    {
     "data": {
      "text/plain": [
       "((41721, 128), (10431, 128), (41721,), (10431,))"
      ]
     },
     "execution_count": 5,
     "metadata": {},
     "output_type": "execute_result"
    }
   ],
   "source": [
    "x_train.shape, x_test.shape , y_train.shape, y_test.shape"
   ]
  },
  {
   "cell_type": "markdown",
   "metadata": {},
   "source": [
    "**2. Experimenting with SVM classifier**"
   ]
  },
  {
   "cell_type": "code",
   "execution_count": 6,
   "metadata": {},
   "outputs": [],
   "source": [
    "from sklearn.svm import SVC\n",
    "\n",
    "clf = SVC(C=10, kernel='rbf', gamma=0.02)"
   ]
  },
  {
   "cell_type": "code",
   "execution_count": 7,
   "metadata": {},
   "outputs": [
    {
     "data": {
      "text/plain": [
       "array(['g', 'a', 'r', ..., 'p', 'm', 'c'], dtype=object)"
      ]
     },
     "execution_count": 7,
     "metadata": {},
     "output_type": "execute_result"
    }
   ],
   "source": [
    "# Training\n",
    "clf.fit(x_train, y_train)\n",
    "\n",
    "# Prediction\n",
    "y_pred = clf.predict(x_test)\n",
    "\n",
    "y_pred"
   ]
  },
  {
   "cell_type": "code",
   "execution_count": 8,
   "metadata": {},
   "outputs": [],
   "source": [
    "# In order to see the first predicted letter (it should be a g)\n",
    "#x = x_test[0].reshape((16, 8))\n",
    "\n",
    "#plt.gray()      # use a grayscale \n",
    "#plt.matshow(x)  # display a matrix of values\n",
    "#plt.show()      # show the figure"
   ]
  },
  {
   "cell_type": "code",
   "execution_count": 10,
   "metadata": {},
   "outputs": [
    {
     "data": {
      "text/plain": [
       "0.9044195187422107"
      ]
     },
     "execution_count": 10,
     "metadata": {},
     "output_type": "execute_result"
    }
   ],
   "source": [
    "metrics.accuracy_score(y_test, y_pred)"
   ]
  },
  {
   "cell_type": "markdown",
   "metadata": {},
   "source": [
    "The accuracy obtained is already higher than the baseline"
   ]
  },
  {
   "cell_type": "markdown",
   "metadata": {},
   "source": [
    "**3. Testing the SVM classifier using cross-validation**"
   ]
  },
  {
   "cell_type": "code",
   "execution_count": 12,
   "metadata": {},
   "outputs": [],
   "source": [
    "try:\n",
    "    from sklearn.model_selection import KFold, cross_val_score\n",
    "    legacy = False \n",
    "except ImportError:\n",
    "    from sklearn.cross_validation import KFold, cross_val_score\n",
    "    legacy = True\n",
    "\n",
    "if legacy:\n",
    "    kf = KFold(len(y_train),n_folds=3, shuffle=True, random_state=42)\n",
    "else:\n",
    "    kf = KFold(n_splits=3, shuffle=True, random_state=42)\n",
    "\n",
    "gamma_values = [0.1, 0.05, 0.02, 0.01]\n",
    "accuracy_scores = []\n",
    "precision_weighted_scores= []\n",
    "recall_weighted_scores = []\n",
    "f1_weighted_scores= []\n",
    "\n",
    "# Do model selection over all the possible values of gamma \n",
    "for gamma in gamma_values:\n",
    "    \n",
    "    # Train a classifier with current gamma\n",
    "    clf = SVC(C=10, kernel='rbf', gamma=gamma)\n",
    "\n",
    "    # Compute cross-validated accuracy scores\n",
    "        if legacy: \n",
    "        scores = cross_val_score(clf, x_train, y_train, cv=kf, scoring='accuracy')\n",
    "        scores2 = cross_val_score(clf, x_train, y_train, cv=kf, scoring='precision_weighted')\n",
    "        scores3 = cross_val_score(clf, x_train, y_train, cv=kf, scoring='recall_weighted')\n",
    "        scores4 = cross_val_score(clf, x_train, y_train, cv=kf, scoring='f1_weighted')\n",
    "\n",
    "    else:\n",
    "         scores = cross_val_score(clf, x_train, y_train, cv=kf.split(x_train), scoring='accuracy')\n",
    "         scores2 = cross_val_score(clf, x_train, y_train, cv=kf.split(x_train), scoring='precision_weighted')\n",
    "         scores3 = cross_val_score(clf, x_train, y_train, cv=kf.split(x_train), scoring='recall_weighted')\n",
    "         scores4 = cross_val_score(clf, x_train, y_train, cv=kf.split(x_train), scoring='f1_weighted')\n",
    "    \n",
    "    \n",
    "    accuracy_score = scores.mean()\n",
    "    precision_weighted_score = scores2.mean()\n",
    "    recall_weighted_score = scores3.mean() \n",
    "    f1_weighted_score = scores4.mean()\n",
    "    \n",
    "    accuracy_scores.append(accuracy_score)\n",
    "    precision_weighted_scores.append(precision_weighted_score)\n",
    "    recall_weighted_scores.append(recall_weighted_score)\n",
    "    f1_weighted_scores.append(f1_weighted_score)\n",
    "\n",
    "# Get the gamma with highest mean accuracy\n",
    "best_index = np.array(accuracy_scores).argmax()\n",
    "best_gamma = gamma_values[best_index]\n"
   ]
  },
  {
   "cell_type": "code",
   "execution_count": 13,
   "metadata": {},
   "outputs": [
    {
     "data": {
      "text/plain": [
       "0.8782867141247813"
      ]
     },
     "execution_count": 13,
     "metadata": {},
     "output_type": "execute_result"
    }
   ],
   "source": [
    "accuracy_score"
   ]
  },
  {
   "cell_type": "code",
   "execution_count": 14,
   "metadata": {},
   "outputs": [
    {
     "data": {
      "text/plain": [
       "0.880603158563776"
      ]
     },
     "execution_count": 14,
     "metadata": {},
     "output_type": "execute_result"
    }
   ],
   "source": [
    "precision_weighted_score"
   ]
  },
  {
   "cell_type": "code",
   "execution_count": 15,
   "metadata": {},
   "outputs": [
    {
     "data": {
      "text/plain": [
       "0.8782867141247813"
      ]
     },
     "execution_count": 15,
     "metadata": {},
     "output_type": "execute_result"
    }
   ],
   "source": [
    "recall_weighted_score"
   ]
  },
  {
   "cell_type": "code",
   "execution_count": 16,
   "metadata": {},
   "outputs": [
    {
     "data": {
      "text/plain": [
       "0.8776603222357244"
      ]
     },
     "execution_count": 16,
     "metadata": {},
     "output_type": "execute_result"
    }
   ],
   "source": [
    "f1_weighted_score"
   ]
  },
  {
   "cell_type": "markdown",
   "metadata": {},
   "source": [
    "**4.Train your classifier over the full training set**"
   ]
  },
  {
   "cell_type": "code",
   "execution_count": 17,
   "metadata": {},
   "outputs": [],
   "source": [
    "# FULL TRAINING SET TRAINING (using best gamma)\n",
    "clf = SVC(C=20, kernel='rbf', gamma=best_gamma);\n",
    "clf.fit(x_train, y_train);"
   ]
  },
  {
   "cell_type": "markdown",
   "metadata": {},
   "source": [
    "**5. Use the classifier to predict the examples in the test set**\n"
   ]
  },
  {
   "cell_type": "code",
   "execution_count": 18,
   "metadata": {},
   "outputs": [],
   "source": [
    "# PREDICT EXAMPLES IN THE TEST SET (with best gamma)\n",
    "y_pred = clf.predict(x_test)"
   ]
  },
  {
   "cell_type": "code",
   "execution_count": 35,
   "metadata": {},
   "outputs": [
    {
     "data": {
      "text/plain": [
       "0.9061451442814688"
      ]
     },
     "execution_count": 35,
     "metadata": {},
     "output_type": "execute_result"
    }
   ],
   "source": [
    "accuracy = metrics.accuracy_score(y_test, y_pred)\n",
    "accuracy"
   ]
  },
  {
   "cell_type": "code",
   "execution_count": 36,
   "metadata": {},
   "outputs": [],
   "source": [
    "from sklearn.metrics import precision_score\n",
    "from sklearn.metrics import recall_score\n",
    "from sklearn.metrics import f1_score"
   ]
  },
  {
   "cell_type": "code",
   "execution_count": 40,
   "metadata": {},
   "outputs": [
    {
     "data": {
      "text/plain": [
       "0.9072529457776723"
      ]
     },
     "execution_count": 40,
     "metadata": {},
     "output_type": "execute_result"
    }
   ],
   "source": [
    "precision_score(y_test, y_pred, average='weighted')\n"
   ]
  },
  {
   "cell_type": "code",
   "execution_count": 38,
   "metadata": {},
   "outputs": [
    {
     "data": {
      "text/plain": [
       "0.9061451442814688"
      ]
     },
     "execution_count": 38,
     "metadata": {},
     "output_type": "execute_result"
    }
   ],
   "source": [
    "recall_score(y_test,y_pred,average = 'weighted')"
   ]
  },
  {
   "cell_type": "code",
   "execution_count": 39,
   "metadata": {},
   "outputs": [
    {
     "data": {
      "text/plain": [
       "0.9056122164381931"
      ]
     },
     "execution_count": 39,
     "metadata": {},
     "output_type": "execute_result"
    }
   ],
   "source": [
    "f1_score(y_test,y_pred,average='weighted')"
   ]
  },
  {
   "cell_type": "markdown",
   "metadata": {},
   "source": [
    "**5. Place the labels in a file, in the same order as you read the test\n",
    "examples and in the same format of the labels in the training\n",
    "set.**"
   ]
  },
  {
   "cell_type": "code",
   "execution_count": 20,
   "metadata": {},
   "outputs": [],
   "source": [
    "# writing predictions in file test-pred.csv\n",
    "import csv\n",
    "predictions = y_pred;\n",
    "with open('test-pred.csv', 'w', newline='') as file:\n",
    "    writer = csv.writer(file)\n",
    "    writer.writerows(predictions)\n"
   ]
  },
  {
   "cell_type": "code",
   "execution_count": 21,
   "metadata": {},
   "outputs": [],
   "source": [
    "# writing predictions in file test-pred.txt\n",
    "\n",
    "predictions = np.array(y_pred)\n",
    "predictions = predictions.T\n",
    "\n",
    "with open(\"test-pred.txt\", 'w+') as datafile_id:\n",
    "#here you open the ascii file\n",
    "\n",
    "    np.savetxt(datafile_id, predictions, fmt=['%s'])\n"
   ]
  },
  {
   "cell_type": "code",
   "execution_count": 22,
   "metadata": {
    "scrolled": true
   },
   "outputs": [],
   "source": [
    "#Y_new = pd.read_csv(\"test-pred.csv\", header = None)\n",
    "#y_new=np.array(Y_new)\n",
    "#l=y_new.shape[0]\n",
    "#y_new=y_new.reshape(l,)\n"
   ]
  },
  {
   "cell_type": "markdown",
   "metadata": {},
   "source": [
    "**6. Plotting the learning training curve**"
   ]
  },
  {
   "cell_type": "code",
   "execution_count": 24,
   "metadata": {},
   "outputs": [
    {
     "data": {
      "image/png": "[encoded data removed]",
      "text/plain": [
       "<Figure size 432x288 with 1 Axes>"
      ]
     },
     "metadata": {
      "needs_background": "light"
     },
     "output_type": "display_data"
    }
   ],
   "source": [
    "try:\n",
    "    from sklearn.model_selection import learning_curve\n",
    "except ImportError:\n",
    "    from sklearn.learning_curve import learning_curve\n",
    "    \n",
    "    \n",
    "plt.figure()\n",
    "plt.title(\"Learning curve\")\n",
    "plt.xlabel(\"Training examples\")\n",
    "plt.ylabel(\"Score\")\n",
    "plt.grid()\n",
    "\n",
    "clf = SVC(C=10, kernel='rbf', gamma=best_gamma)\n",
    "\n",
    "# Compute the scores of the learning curve\n",
    "# by default the (relative) dataset sizes are: 10%, 32.5%, 55%, 77.5%, 100%\n",
    "# The function automatuically executes a Kfold cross validation for each dataset size\n",
    "train_sizes, train_scores, val_scores = learning_curve(clf, x_train, y_train, scoring='accuracy', cv=3)\n",
    "\n",
    "# Get the mean and std of train and validation scores over the cv folds along the varying dataset sizes\n",
    "train_scores_mean = np.mean(train_scores, axis=1)\n",
    "train_scores_std = np.std(train_scores, axis=1)\n",
    "val_scores_mean = np.mean(val_scores, axis=1)\n",
    "val_scores_std = np.std(val_scores, axis=1)\n",
    "\n",
    "# Plot the mean  for the training scores\n",
    "plt.plot(train_sizes, train_scores_mean, 'o-', color=\"r\", label=\"Training score\")\n",
    "\n",
    "# Plot the  std for the training scores\n",
    "plt.fill_between(train_sizes, train_scores_mean - train_scores_std,\n",
    "                 train_scores_mean + train_scores_std, alpha=0.1, color=\"r\")\n",
    "\n",
    "# Plot the mean  for the validation scores\n",
    "plt.plot(train_sizes, val_scores_mean, 'o-', color=\"g\", label=\"Cross-validation score\")\n",
    "\n",
    "# Plot the std for the validation scores\n",
    "plt.fill_between(train_sizes, val_scores_mean - val_scores_std,\n",
    "                 val_scores_mean + val_scores_std, alpha=0.1, color=\"g\")\n",
    "plt.ylim(0.05,1.3)             # set bottom and top limits for y axis\n",
    "plt.legend()\n",
    "plt.show()"
   ]
  },
  {
   "cell_type": "code",
   "execution_count": 25,
   "metadata": {},
   "outputs": [
    {
     "data": {
      "text/plain": [
       "0.05"
      ]
     },
     "execution_count": 25,
     "metadata": {},
     "output_type": "execute_result"
    }
   ],
   "source": [
    "best_gamma"
   ]
  }
 ],
 "metadata": {
  "kernelspec": {
   "display_name": "Python 3",
   "language": "python",
   "name": "python3"
  },
  "language_info": {
   "codemirror_mode": {
    "name": "ipython",
    "version": 3
   },
   "file_extension": ".py",
   "mimetype": "text/x-python",
   "name": "python",
   "nbconvert_exporter": "python",
   "pygments_lexer": "ipython3",
   "version": "3.7.3"
  }
 },
 "nbformat": 4,
 "nbformat_minor": 2
}
